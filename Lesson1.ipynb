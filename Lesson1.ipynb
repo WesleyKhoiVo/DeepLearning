{
  "cells": [
    {
      "cell_type": "markdown",
      "metadata": {
        "id": "view-in-github",
        "colab_type": "text"
      },
      "source": [
        "<a href=\"https://colab.research.google.com/github/WesleyKhoiVo/DeepLearning/blob/main/Lesson1.ipynb\" target=\"_parent\"><img src=\"https://colab.research.google.com/assets/colab-badge.svg\" alt=\"Open In Colab\"/></a>"
      ]
    },
    {
      "cell_type": "code",
      "execution_count": 19,
      "metadata": {
        "id": "kzmQ7vOrX0LY",
        "outputId": "b6fbf21a-b8fb-4575-9a4d-675b31eb9448",
        "colab": {
          "base_uri": "https://localhost:8080/"
        }
      },
      "outputs": [
        {
          "output_type": "stream",
          "name": "stderr",
          "text": [
            "/usr/local/lib/python3.10/dist-packages/sklearn/datasets/_openml.py:968: FutureWarning: The default value of `parser` will change from `'liac-arff'` to `'auto'` in 1.4. You can set `parser='auto'` to silence this warning. Therefore, an `ImportError` will be raised from 1.4 if the dataset is dense and pandas is not installed. Note that the pandas parser may return different data types. See the Notes Section in fetch_openml's API doc for details.\n",
            "  warn(\n"
          ]
        }
      ],
      "source": [
        "#Load MNIST dataset\n",
        "# MNIST dataset has a shape of (70000, 784) meaning there are 70,000 images with 784 dimensions (784 features).\n",
        "from sklearn.datasets import fetch_openml\n",
        "mnist = fetch_openml(\"mnist_784\", as_frame=False)"
      ]
    },
    {
      "cell_type": "code",
      "execution_count": 20,
      "metadata": {
        "id": "J4lKSG3dX0Ld",
        "outputId": "6313ef8a-5a81-4622-b68d-99f568d73747",
        "colab": {
          "base_uri": "https://localhost:8080/",
          "height": 234
        }
      },
      "outputs": [
        {
          "output_type": "display_data",
          "data": {
            "text/plain": [
              "<Figure size 1500x200 with 1 Axes>"
            ],
            "image/png": "[encoded data removed]"
          },
          "metadata": {}
        },
        {
          "output_type": "stream",
          "name": "stdout",
          "text": [
            "Label: 9\n"
          ]
        }
      ],
      "source": [
        "import matplotlib\n",
        "import matplotlib.pyplot as plt\n",
        "\n",
        "image = mnist.data[4].reshape((28,28))\n",
        "label =  mnist.target[4]\n",
        "\n",
        "plt.figure(figsize = (15,2))\n",
        "imgplot = plt.imshow(image,cmap=plt.cm.binary)\n",
        "plt.show()\n",
        "print(\"Label:\",label)"
      ]
    },
    {
      "cell_type": "code",
      "execution_count": 21,
      "metadata": {
        "id": "4PTtXrGmX0Lf",
        "outputId": "e6bffa19-e61f-4ee7-c0ed-caf70c652ef0",
        "colab": {
          "base_uri": "https://localhost:8080/"
        }
      },
      "outputs": [
        {
          "output_type": "execute_result",
          "data": {
            "text/plain": [
              "(70000, 28, 28, 1)"
            ]
          },
          "metadata": {},
          "execution_count": 21
        }
      ],
      "source": [
        "import numpy as np\n",
        "mnist.data = np.reshape(mnist.data,(-1,28,28,1))\n",
        "mnist.data.shape"
      ]
    },
    {
      "cell_type": "code",
      "execution_count": 22,
      "metadata": {
        "id": "CTZC676vX0Lg"
      },
      "outputs": [],
      "source": [
        "from sklearn.model_selection import train_test_split\n",
        "# test_size: what proportion of original data is used for test set\n",
        "train_img, test_img, train_lbl, test_lbl = train_test_split( mnist.data, mnist.target, test_size=1/7.0, random_state=0)"
      ]
    },
    {
      "cell_type": "code",
      "execution_count": 23,
      "metadata": {
        "id": "7lrGwDniX0Lg"
      },
      "outputs": [],
      "source": [
        "#Convert to one-hot vector\n",
        "#For example, label '0' => [1,0,0,0,0,0,0,0,0,0,0], '1' => [0,1,0,0,0,0,0,0,0,0,0], ...\n",
        "from tensorflow.keras.utils import to_categorical\n",
        "train_lbl = to_categorical(train_lbl)\n",
        "test_lbl = to_categorical(test_lbl)"
      ]
    },
    {
      "cell_type": "code",
      "execution_count": 24,
      "metadata": {
        "id": "e01GPhv6X0Lh",
        "outputId": "f79dc745-369f-4a1b-c087-d96875730a86",
        "colab": {
          "base_uri": "https://localhost:8080/"
        }
      },
      "outputs": [
        {
          "output_type": "stream",
          "name": "stdout",
          "text": [
            "Model: \"model\"\n",
            "_________________________________________________________________\n",
            " Layer (type)                Output Shape              Param #   \n",
            "=================================================================\n",
            " input_1 (InputLayer)        [(None, 28, 28, 1)]       0         \n",
            "                                                                 \n",
            " conv2d (Conv2D)             (None, 28, 28, 50)        500       \n",
            "                                                                 \n",
            " max_pooling2d (MaxPooling2D  (None, 14, 14, 50)       0         \n",
            " )                                                               \n",
            "                                                                 \n",
            " flatten (Flatten)           (None, 9800)              0         \n",
            "                                                                 \n",
            " dense (Dense)               (None, 10)                98010     \n",
            "                                                                 \n",
            "=================================================================\n",
            "Total params: 98,510\n",
            "Trainable params: 98,510\n",
            "Non-trainable params: 0\n",
            "_________________________________________________________________\n",
            "Epoch 1/10\n",
            "30/30 [==============================] - 62s 2s/step - loss: 11.1985 - accuracy: 0.6956 - val_loss: 2.1535 - val_accuracy: 0.8848\n",
            "Epoch 2/10\n",
            "30/30 [==============================] - 48s 2s/step - loss: 1.3067 - accuracy: 0.9173 - val_loss: 0.9159 - val_accuracy: 0.9326\n",
            "Epoch 3/10\n",
            "30/30 [==============================] - 48s 2s/step - loss: 0.5969 - accuracy: 0.9464 - val_loss: 0.5243 - val_accuracy: 0.9501\n",
            "Epoch 4/10\n",
            "30/30 [==============================] - 49s 2s/step - loss: 0.3146 - accuracy: 0.9610 - val_loss: 0.3395 - val_accuracy: 0.9596\n",
            "Epoch 5/10\n",
            "30/30 [==============================] - 49s 2s/step - loss: 0.1878 - accuracy: 0.9695 - val_loss: 0.2749 - val_accuracy: 0.9635\n",
            "Epoch 6/10\n",
            "30/30 [==============================] - 47s 2s/step - loss: 0.1311 - accuracy: 0.9758 - val_loss: 0.2413 - val_accuracy: 0.9658\n",
            "Epoch 7/10\n",
            "30/30 [==============================] - 49s 2s/step - loss: 0.0978 - accuracy: 0.9801 - val_loss: 0.2229 - val_accuracy: 0.9654\n",
            "Epoch 8/10\n",
            "30/30 [==============================] - 48s 2s/step - loss: 0.0780 - accuracy: 0.9830 - val_loss: 0.2114 - val_accuracy: 0.9668\n",
            "Epoch 9/10\n",
            "30/30 [==============================] - 50s 2s/step - loss: 0.0640 - accuracy: 0.9851 - val_loss: 0.2022 - val_accuracy: 0.9672\n",
            "Epoch 10/10\n",
            "30/30 [==============================] - 47s 2s/step - loss: 0.0507 - accuracy: 0.9872 - val_loss: 0.1924 - val_accuracy: 0.9693\n"
          ]
        },
        {
          "output_type": "execute_result",
          "data": {
            "text/plain": [
              "<keras.callbacks.History at 0x7fcab9db0e80>"
            ]
          },
          "metadata": {},
          "execution_count": 24
        }
      ],
      "source": [
        "from tensorflow.keras.layers import *\n",
        "from tensorflow.keras.models import Model\n",
        "import tensorflow as tf\n",
        "import datetime\n",
        "\n",
        "input_layer = Input(shape=(28,28,1))\n",
        "conv_layer = Conv2D(50,(3,3),activation=\"relu\",padding=\"same\")(input_layer)\n",
        "pooling_layer = MaxPooling2D((2,2))(conv_layer)\n",
        "flatten_layer = Flatten()(pooling_layer)\n",
        "dense_layer2 = Dense(10, activation=\"softmax\")(flatten_layer)\n",
        "\n",
        "model = Model(inputs=input_layer, outputs=dense_layer2)\n",
        "model.compile(loss='categorical_crossentropy', optimizer=\"adam\",metrics=[\"accuracy\"])\n",
        "model.summary()\n",
        "\n",
        "\n",
        "log_dir = \"logs/\" + datetime.datetime.now().strftime(\"%Y%m%d-%H%M%S\")\n",
        "tensorboard_callback = tf.keras.callbacks.TensorBoard(log_dir=log_dir, histogram_freq=1)\n",
        "\n",
        "model.fit(train_img,train_lbl,validation_data=(test_img,test_lbl), epochs= 10, batch_size=2000,callbacks=[tensorboard_callback])"
      ]
    },
    {
      "cell_type": "code",
      "execution_count": 29,
      "metadata": {
        "id": "SkHviq1fX0Li",
        "outputId": "e23f070b-1c3b-4f3d-f4f0-c22da58abd30",
        "colab": {
          "base_uri": "https://localhost:8080/",
          "height": 873
        }
      },
      "outputs": [
        {
          "output_type": "stream",
          "name": "stdout",
          "text": [
            "The tensorboard extension is already loaded. To reload it, use:\n",
            "  %reload_ext tensorboard\n"
          ]
        },
        {
          "output_type": "display_data",
          "data": {
            "text/plain": [
              "Reusing TensorBoard on port 6006 (pid 40455), started 0:02:14 ago. (Use '!kill 40455' to kill it.)"
            ]
          },
          "metadata": {}
        },
        {
          "output_type": "display_data",
          "data": {
            "text/plain": [
              "<IPython.core.display.Javascript object>"
            ],
            "application/javascript": [
              "\n",
              "        (async () => {\n",
              "            const url = new URL(await google.colab.kernel.proxyPort(6006, {'cache': true}));\n",
              "            url.searchParams.set('tensorboardColab', 'true');\n",
              "            const iframe = document.createElement('iframe');\n",
              "            iframe.src = url;\n",
              "            iframe.setAttribute('width', '100%');\n",
              "            iframe.setAttribute('height', '800');\n",
              "            iframe.setAttribute('frameborder', 0);\n",
              "            document.body.appendChild(iframe);\n",
              "        })();\n",
              "    "
            ]
          },
          "metadata": {}
        }
      ],
      "source": [
        "%load_ext tensorboard\n",
        "%tensorboard --logdir logs"
      ]
    },
    {
      "cell_type": "code",
      "execution_count": 26,
      "metadata": {
        "id": "n2qOkYGpX0Ll"
      },
      "outputs": [],
      "source": [
        "model.save_weights(\"weights.h5\")\n",
        "model.save(\"model.h5\",include_optimizer=False)"
      ]
    },
    {
      "cell_type": "code",
      "execution_count": 27,
      "metadata": {
        "id": "G9oZWDwjX0Lm"
      },
      "outputs": [],
      "source": [
        "from tensorflow.keras.layers import *\n",
        "from tensorflow.keras.models import Model\n",
        "\n",
        "\n",
        "input_layer = Input(shape=(28,28,1))\n",
        "conv_layer = Conv2D(50,(3,3),activation=\"relu\",padding=\"same\")(input_layer)\n",
        "pooling_layer = MaxPooling2D((2,2))(conv_layer)\n",
        "flatten_layer = Flatten()(pooling_layer)\n",
        "dense_layer2 = Dense(10, activation=\"softmax\")(flatten_layer)\n",
        "\n",
        "saved_model = Model(inputs=input_layer, outputs=dense_layer2)\n",
        "\n",
        "saved_model.load_weights(\"weights.h5\")"
      ]
    },
    {
      "cell_type": "code",
      "execution_count": 28,
      "metadata": {
        "id": "f38q4CJJX0Ln",
        "outputId": "98c0e27c-2c75-4c27-b02e-9dbe630b00d9",
        "colab": {
          "base_uri": "https://localhost:8080/"
        }
      },
      "outputs": [
        {
          "output_type": "stream",
          "name": "stderr",
          "text": [
            "WARNING:tensorflow:No training configuration found in the save file, so the model was *not* compiled. Compile it manually.\n"
          ]
        },
        {
          "output_type": "stream",
          "name": "stdout",
          "text": [
            "Model: \"model\"\n",
            "_________________________________________________________________\n",
            " Layer (type)                Output Shape              Param #   \n",
            "=================================================================\n",
            " input_1 (InputLayer)        [(None, 28, 28, 1)]       0         \n",
            "                                                                 \n",
            " conv2d (Conv2D)             (None, 28, 28, 50)        500       \n",
            "                                                                 \n",
            " max_pooling2d (MaxPooling2D  (None, 14, 14, 50)       0         \n",
            " )                                                               \n",
            "                                                                 \n",
            " flatten (Flatten)           (None, 9800)              0         \n",
            "                                                                 \n",
            " dense (Dense)               (None, 10)                98010     \n",
            "                                                                 \n",
            "=================================================================\n",
            "Total params: 98,510\n",
            "Trainable params: 98,510\n",
            "Non-trainable params: 0\n",
            "_________________________________________________________________\n"
          ]
        }
      ],
      "source": [
        "from tensorflow.keras.models import load_model\n",
        "new_model = load_model('model.h5')\n",
        "new_model.summary()"
      ]
    }
  ],
  "metadata": {
    "language_info": {
      "name": "python"
    },
    "orig_nbformat": 4,
    "colab": {
      "provenance": [],
      "toc_visible": true,
      "include_colab_link": true
    },
    "kernelspec": {
      "name": "python3",
      "display_name": "Python 3"
    },
    "gpuClass": "standard"
  },
  "nbformat": 4,
  "nbformat_minor": 0
}