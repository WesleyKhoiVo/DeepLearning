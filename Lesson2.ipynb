{
  "cells": [
    {
      "cell_type": "markdown",
      "metadata": {
        "id": "view-in-github",
        "colab_type": "text"
      },
      "source": [
        "<a href=\"https://colab.research.google.com/github/WesleyKhoiVo/DeepLearning/blob/main/Lesson2.ipynb\" target=\"_parent\"><img src=\"https://colab.research.google.com/assets/colab-badge.svg\" alt=\"Open In Colab\"/></a>"
      ]
    },
    {
      "cell_type": "code",
      "execution_count": 1,
      "metadata": {
        "id": "fikuBlNeeLyJ"
      },
      "outputs": [],
      "source": [
        "#Load MNIST dataset\n",
        "# MNIST dataset has a shape of (70000, 784) meaning there are 70,000 images with 784 dimensions (784 features).\n",
        "from sklearn.datasets import fetch_openml\n",
        "mnist = fetch_openml(\"mnist_784\", as_frame=False, parser='auto')"
      ]
    },
    {
      "cell_type": "code",
      "execution_count": 5,
      "metadata": {
        "colab": {
          "base_uri": "https://localhost:8080/"
        },
        "id": "kiasXwOeeLyU",
        "outputId": "48ed9315-3d41-42a5-a3bb-930a712dbf21"
      },
      "outputs": [
        {
          "output_type": "execute_result",
          "data": {
            "text/plain": [
              "array([[0, 0, 0, ..., 0, 0, 0],\n",
              "       [0, 0, 0, ..., 0, 0, 0],\n",
              "       [0, 0, 0, ..., 0, 0, 0],\n",
              "       ...,\n",
              "       [0, 0, 0, ..., 0, 0, 0],\n",
              "       [0, 0, 0, ..., 0, 0, 0],\n",
              "       [0, 0, 0, ..., 0, 0, 0]])"
            ]
          },
          "metadata": {},
          "execution_count": 5
        }
      ],
      "source": [
        "#Explore the first image in MNIST dataset\n",
        "mnist['data']"
      ]
    },
    {
      "cell_type": "code",
      "execution_count": 6,
      "metadata": {
        "id": "KVbFkCF8eLyX",
        "outputId": "76f8cc6d-0b98-4b36-a023-d49f8229faa1",
        "colab": {
          "base_uri": "https://localhost:8080/",
          "height": 447
        }
      },
      "outputs": [
        {
          "output_type": "execute_result",
          "data": {
            "text/plain": [
              "<matplotlib.image.AxesImage at 0x7fa539ee1d20>"
            ]
          },
          "metadata": {},
          "execution_count": 6
        },
        {
          "output_type": "display_data",
          "data": {
            "text/plain": [
              "<Figure size 640x480 with 1 Axes>"
            ],
            "image/png": "[encoded data removed]"
          },
          "metadata": {}
        }
      ],
      "source": [
        "import matplotlib.pyplot as plt\n",
        "plt.imshow(mnist.data[0].reshape(28,28), cmap='gray')"
      ]
    },
    {
      "cell_type": "code",
      "execution_count": 7,
      "metadata": {
        "id": "rYH7UqnkeLyZ",
        "outputId": "8ef8de96-3d76-489a-fc6b-98ad99fe2d37",
        "colab": {
          "base_uri": "https://localhost:8080/",
          "height": 35
        }
      },
      "outputs": [
        {
          "output_type": "execute_result",
          "data": {
            "text/plain": [
              "'5'"
            ],
            "application/vnd.google.colaboratory.intrinsic+json": {
              "type": "string"
            }
          },
          "metadata": {},
          "execution_count": 7
        }
      ],
      "source": [
        "mnist.target[0]"
      ]
    },
    {
      "cell_type": "code",
      "execution_count": 8,
      "metadata": {
        "colab": {
          "base_uri": "https://localhost:8080/"
        },
        "id": "usku7S8NeLyb",
        "outputId": "4af99867-0cff-4ae9-8ba9-12223161e5b8"
      },
      "outputs": [
        {
          "output_type": "execute_result",
          "data": {
            "text/plain": [
              "(60000, 784)"
            ]
          },
          "metadata": {},
          "execution_count": 8
        }
      ],
      "source": [
        "from sklearn.model_selection import train_test_split\n",
        "# test_size: what proportion of original data is used for test set\n",
        "train_img, test_img, train_lbl, test_lbl = train_test_split( mnist.data, mnist.target, test_size=1/7.0, random_state=0)\n",
        "train_lbl[0:10]\n",
        "train_img.shape"
      ]
    },
    {
      "cell_type": "code",
      "execution_count": 9,
      "metadata": {
        "colab": {
          "base_uri": "https://localhost:8080/"
        },
        "id": "g_9H_B2JeLyc",
        "outputId": "26e34f88-7c66-420d-9080-d4d0fe51a107"
      },
      "outputs": [
        {
          "output_type": "execute_result",
          "data": {
            "text/plain": [
              "array([[0., 0., 0., 0., 0., 0., 0., 1., 0., 0.],\n",
              "       [0., 0., 0., 1., 0., 0., 0., 0., 0., 0.],\n",
              "       [1., 0., 0., 0., 0., 0., 0., 0., 0., 0.],\n",
              "       [0., 1., 0., 0., 0., 0., 0., 0., 0., 0.],\n",
              "       [0., 0., 1., 0., 0., 0., 0., 0., 0., 0.],\n",
              "       [1., 0., 0., 0., 0., 0., 0., 0., 0., 0.],\n",
              "       [0., 0., 0., 0., 0., 0., 0., 1., 0., 0.],\n",
              "       [0., 0., 0., 0., 0., 0., 1., 0., 0., 0.],\n",
              "       [0., 0., 0., 0., 0., 1., 0., 0., 0., 0.],\n",
              "       [0., 0., 0., 0., 0., 1., 0., 0., 0., 0.]], dtype=float32)"
            ]
          },
          "metadata": {},
          "execution_count": 9
        }
      ],
      "source": [
        "from tensorflow.keras.utils import to_categorical\n",
        "train_onehot_lbl = to_categorical(train_lbl,num_classes=10)\n",
        "test_onehot_lbl = to_categorical(test_lbl,num_classes=10)\n",
        "train_onehot_lbl[0:10]"
      ]
    },
    {
      "cell_type": "code",
      "execution_count": 10,
      "metadata": {
        "colab": {
          "base_uri": "https://localhost:8080/"
        },
        "id": "ARSV1sFueLye",
        "outputId": "1690e311-9fb4-4879-984d-5935e3c2474e"
      },
      "outputs": [
        {
          "output_type": "stream",
          "name": "stdout",
          "text": [
            "Epoch 1/20\n",
            "3000/3000 [==============================] - 10s 3ms/step - loss: 0.7737 - accuracy: 0.7841 - val_loss: 0.5275 - val_accuracy: 0.8482\n",
            "Epoch 2/20\n",
            "3000/3000 [==============================] - 6s 2ms/step - loss: 0.4641 - accuracy: 0.8614 - val_loss: 0.4450 - val_accuracy: 0.8694\n",
            "Epoch 3/20\n",
            "3000/3000 [==============================] - 7s 2ms/step - loss: 0.4183 - accuracy: 0.8749 - val_loss: 0.4226 - val_accuracy: 0.8690\n",
            "Epoch 4/20\n",
            "3000/3000 [==============================] - 6s 2ms/step - loss: 0.4046 - accuracy: 0.8774 - val_loss: 0.4432 - val_accuracy: 0.8580\n",
            "Epoch 5/20\n",
            "3000/3000 [==============================] - 7s 2ms/step - loss: 0.4021 - accuracy: 0.8754 - val_loss: 0.3858 - val_accuracy: 0.8831\n",
            "Epoch 6/20\n",
            "3000/3000 [==============================] - 6s 2ms/step - loss: 0.3659 - accuracy: 0.8888 - val_loss: 0.3939 - val_accuracy: 0.8809\n",
            "Epoch 7/20\n",
            "3000/3000 [==============================] - 7s 2ms/step - loss: 0.3848 - accuracy: 0.8798 - val_loss: 0.4184 - val_accuracy: 0.8689\n",
            "Epoch 8/20\n",
            "3000/3000 [==============================] - 6s 2ms/step - loss: 0.3630 - accuracy: 0.8888 - val_loss: 0.3634 - val_accuracy: 0.8871\n",
            "Epoch 9/20\n",
            "3000/3000 [==============================] - 7s 2ms/step - loss: 0.3664 - accuracy: 0.8869 - val_loss: 0.3776 - val_accuracy: 0.8841\n",
            "Epoch 10/20\n",
            "3000/3000 [==============================] - 6s 2ms/step - loss: 0.3373 - accuracy: 0.8983 - val_loss: 0.3312 - val_accuracy: 0.9035\n",
            "Epoch 11/20\n",
            "3000/3000 [==============================] - 7s 2ms/step - loss: 0.3334 - accuracy: 0.9000 - val_loss: 0.3362 - val_accuracy: 0.8996\n",
            "Epoch 12/20\n",
            "3000/3000 [==============================] - 7s 2ms/step - loss: 0.3224 - accuracy: 0.9034 - val_loss: 0.3815 - val_accuracy: 0.8863\n",
            "Epoch 13/20\n",
            "3000/3000 [==============================] - 7s 2ms/step - loss: 0.3188 - accuracy: 0.9045 - val_loss: 0.3198 - val_accuracy: 0.9044\n",
            "Epoch 14/20\n",
            "3000/3000 [==============================] - 6s 2ms/step - loss: 0.3037 - accuracy: 0.9102 - val_loss: 0.3121 - val_accuracy: 0.9075\n",
            "Epoch 15/20\n",
            "3000/3000 [==============================] - 7s 2ms/step - loss: 0.3043 - accuracy: 0.9093 - val_loss: 0.3412 - val_accuracy: 0.8941\n",
            "Epoch 16/20\n",
            "3000/3000 [==============================] - 6s 2ms/step - loss: 0.3157 - accuracy: 0.9065 - val_loss: 0.3106 - val_accuracy: 0.9072\n",
            "Epoch 17/20\n",
            "3000/3000 [==============================] - 7s 2ms/step - loss: 0.2980 - accuracy: 0.9100 - val_loss: 0.3138 - val_accuracy: 0.9066\n",
            "Epoch 18/20\n",
            "3000/3000 [==============================] - 6s 2ms/step - loss: 0.2940 - accuracy: 0.9114 - val_loss: 0.3141 - val_accuracy: 0.9065\n",
            "Epoch 19/20\n",
            "3000/3000 [==============================] - 7s 2ms/step - loss: 0.2998 - accuracy: 0.9105 - val_loss: 0.3218 - val_accuracy: 0.9066\n",
            "Epoch 20/20\n",
            "3000/3000 [==============================] - 6s 2ms/step - loss: 0.3036 - accuracy: 0.9097 - val_loss: 0.3265 - val_accuracy: 0.9055\n"
          ]
        },
        {
          "output_type": "execute_result",
          "data": {
            "text/plain": [
              "<keras.callbacks.History at 0x7fa503ffb820>"
            ]
          },
          "metadata": {},
          "execution_count": 10
        }
      ],
      "source": [
        "import tensorflow as tf\n",
        "from tensorflow.keras.layers import *\n",
        "from tensorflow.keras.models import Model\n",
        "\n",
        "input_layer = Input(shape=(784,))\n",
        "hidden_layer = Dense(30,activation=\"sigmoid\")(input_layer)\n",
        "dense_layer = Dense(10, activation=\"softmax\")(hidden_layer)\n",
        "\n",
        "model = Model(inputs=input_layer, outputs=dense_layer)\n",
        "model.compile(loss='categorical_crossentropy', optimizer=\"adam\", metrics=[\"accuracy\"])\n",
        "\n",
        "model.fit(train_img,train_onehot_lbl,validation_data=(test_img,test_onehot_lbl), epochs= 20, batch_size=20)"
      ]
    },
    {
      "cell_type": "code",
      "execution_count": 11,
      "metadata": {
        "id": "P1zUaWgxjZfT",
        "outputId": "74ddf656-5d5f-43a5-a483-7c8498526ff1",
        "colab": {
          "base_uri": "https://localhost:8080/"
        }
      },
      "outputs": [
        {
          "output_type": "stream",
          "name": "stdout",
          "text": [
            "Model: \"model_1\"\n",
            "_________________________________________________________________\n",
            " Layer (type)                Output Shape              Param #   \n",
            "=================================================================\n",
            " input_2 (InputLayer)        [(None, 784)]             0         \n",
            "                                                                 \n",
            " dense_2 (Dense)             (None, 100)               78500     \n",
            "                                                                 \n",
            " dense_3 (Dense)             (None, 80)                8080      \n",
            "                                                                 \n",
            " dense_4 (Dense)             (None, 50)                4050      \n",
            "                                                                 \n",
            " dense_5 (Dense)             (None, 10)                510       \n",
            "                                                                 \n",
            "=================================================================\n",
            "Total params: 91,140\n",
            "Trainable params: 91,140\n",
            "Non-trainable params: 0\n",
            "_________________________________________________________________\n"
          ]
        }
      ],
      "source": [
        "import tensorflow as tf\n",
        "from tensorflow.keras.layers import *\n",
        "from tensorflow.keras.models import Model\n",
        "\n",
        "input_layer = Input(shape=(784,))\n",
        "dense_layer1 = Dense(100,activation=\"sigmoid\")(input_layer) \n",
        "dense_layer2 = Dense(80,activation=\"sigmoid\")(dense_layer1)\n",
        "dense_layer3 = Dense(50,activation=\"sigmoid\")(dense_layer2)\n",
        "dense_layer4 = Dense(10, activation=\"softmax\")(dense_layer3)  \n",
        "\n",
        "model = Model(inputs=input_layer, outputs=dense_layer4)\n",
        "model.compile(loss='categorical_crossentropy', optimizer=\"adam\",metrics=[\"accuracy\"])\n",
        "\n",
        "model.summary()\n",
        "\n",
        "#model.fit(train_img,train_onehot_lbl,validation_data=(test_img,test_onehot_lbl), epochs= 5, batch_size=10)\n"
      ]
    },
    {
      "cell_type": "code",
      "execution_count": 12,
      "metadata": {
        "id": "RBLvkHgfjZfV",
        "outputId": "0a8586ff-180a-4238-8004-6f381f32c38f",
        "colab": {
          "base_uri": "https://localhost:8080/"
        }
      },
      "outputs": [
        {
          "output_type": "stream",
          "name": "stdout",
          "text": [
            "1/1 [==============================] - 0s 105ms/step\n"
          ]
        },
        {
          "output_type": "execute_result",
          "data": {
            "text/plain": [
              "array([[0.03871461, 0.09127783, 0.0966564 , 0.06257275, 0.13741416,\n",
              "        0.29780576, 0.0359331 , 0.0535029 , 0.07503361, 0.11108892],\n",
              "       [0.04120574, 0.09721867, 0.0987242 , 0.0629988 , 0.14555232,\n",
              "        0.28177124, 0.03788112, 0.05586111, 0.07330831, 0.10547843]],\n",
              "      dtype=float32)"
            ]
          },
          "metadata": {},
          "execution_count": 12
        }
      ],
      "source": [
        "model.predict(test_img[0:2])"
      ]
    }
  ],
  "metadata": {
    "colab": {
      "provenance": [],
      "include_colab_link": true
    },
    "gpuClass": "standard",
    "kernelspec": {
      "display_name": "Python 3",
      "name": "python3"
    },
    "language_info": {
      "name": "python"
    },
    "orig_nbformat": 4
  },
  "nbformat": 4,
  "nbformat_minor": 0
}