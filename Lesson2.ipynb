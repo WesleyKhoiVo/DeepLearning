{
  "cells": [
    {
      "attachments": {},
      "cell_type": "markdown",
      "metadata": {
        "colab_type": "text",
        "id": "view-in-github"
      },
      "source": [
        "<a href=\"https://colab.research.google.com/github/WesleyKhoiVo/DeepLearning/blob/main/Lesson2.ipynb\" target=\"_parent\"><img src=\"https://colab.research.google.com/assets/colab-badge.svg\" alt=\"Open In Colab\"/></a>"
      ]
    },
    {
      "cell_type": "code",
      "execution_count": 1,
      "metadata": {
        "id": "fikuBlNeeLyJ"
      },
      "outputs": [],
      "source": [
        "#Load MNIST dataset\n",
        "# MNIST dataset has a shape of (70000, 784) meaning there are 70,000 images with 784 dimensions (784 features).\n",
        "from sklearn.datasets import fetch_openml\n",
        "mnist = fetch_openml(\"mnist_784\", as_frame=False, parser='auto')"
      ]
    },
    {
      "cell_type": "code",
      "execution_count": 2,
      "metadata": {
        "colab": {
          "base_uri": "https://localhost:8080/"
        },
        "id": "kiasXwOeeLyU",
        "outputId": "27d8e703-e68b-4f54-90e1-88e1dc5c2de6"
      },
      "outputs": [
        {
          "data": {
            "text/plain": [
              "(60000, 784)"
            ]
          },
          "execution_count": 2,
          "metadata": {},
          "output_type": "execute_result"
        }
      ],
      "source": [
        "#Explore the first image in MNIST dataset\n",
        "mnist['data'].loc[0]"
      ]
    },
    {
      "cell_type": "code",
      "execution_count": 3,
      "metadata": {
        "id": "KVbFkCF8eLyX"
      },
      "outputs": [],
      "source": [
        "import matplotlib.pyplot as plt\n",
        "plt.imshow(mnist.data[0].reshape(28,28), cmap='gray')"
      ]
    },
    {
      "cell_type": "code",
      "execution_count": 4,
      "metadata": {
        "id": "rYH7UqnkeLyZ"
      },
      "outputs": [],
      "source": [
        "mnist.target[0]"
      ]
    },
    {
      "cell_type": "code",
      "execution_count": 5,
      "metadata": {
        "colab": {
          "base_uri": "https://localhost:8080/"
        },
        "id": "usku7S8NeLyb",
        "outputId": "c5a9cbc1-dbbd-4543-b48c-8e319fde846d"
      },
      "outputs": [
        {
          "data": {
            "text/plain": [
              "<torch.utils.data.dataloader.DataLoader at 0x7fd7b141e2c0>"
            ]
          },
          "execution_count": 5,
          "metadata": {},
          "output_type": "execute_result"
        }
      ],
      "source": [
        "from sklearn.model_selection import train_test_split\n",
        "# test_size: what proportion of original data is used for test set\n",
        "train_img, test_img, train_lbl, test_lbl = train_test_split( mnist.data, mnist.target, test_size=1/7.0, random_state=0)\n",
        "train_lbl[0:10]\n",
        "train_img.shape"
      ]
    },
    {
      "cell_type": "code",
      "execution_count": 6,
      "metadata": {
        "colab": {
          "base_uri": "https://localhost:8080/"
        },
        "id": "g_9H_B2JeLyc",
        "outputId": "9df0fb73-2056-437e-fd76-8e4e0db2804e"
      },
      "outputs": [
        {
          "name": "stdout",
          "output_type": "stream",
          "text": [
            "[1,  2000] loss: 1.879\n",
            "[1,  4000] loss: 1.389\n",
            "[1,  6000] loss: 1.190\n",
            "[2,  2000] loss: 1.081\n",
            "[2,  4000] loss: 0.955\n",
            "[2,  6000] loss: 0.896\n",
            "Finished Training\n"
          ]
        }
      ],
      "source": [
        "from tensorflow.keras.utils import to_categorical\n",
        "train_onehot_lbl = to_categorical(train_lbl,num_classes=10)\n",
        "test_onehot_lbl = to_categorical(test_lbl,num_classes=10)\n",
        "train_onehot_lbl[0:10]"
      ]
    },
    {
      "cell_type": "code",
      "execution_count": 7,
      "metadata": {
        "colab": {
          "base_uri": "https://localhost:8080/"
        },
        "id": "ARSV1sFueLye",
        "outputId": "9acbfe56-e560-409c-cfe0-2ae078093a00"
      },
      "outputs": [
        {
          "data": {
            "text/plain": [
              "tensor([8, 4, 1,  ..., 1, 3, 0])"
            ]
          },
          "execution_count": 7,
          "metadata": {},
          "output_type": "execute_result"
        }
      ],
      "source": [
        "import tensorflow as tf\n",
        "from tensorflow.keras.layers import *\n",
        "from tensorflow.keras.models import Model\n",
        "\n",
        "input_layer = Input(shape=(784,))\n",
        "hidden_layer = Dense(30,activation=\"sigmoid\")(input_layer)\n",
        "dense_layer = Dense(10, activation=\"softmax\")(hidden_layer)\n",
        "\n",
        "model = Model(inputs=input_layer, outputs=dense_layer)\n",
        "model.compile(loss='categorical_crossentropy', optimizer=\"adam\", metrics=[\"accuracy\"])\n",
        "\n",
        "model.fit(train_img,train_onehot_lbl,validation_data=(test_img,test_onehot_lbl), epochs= 20, batch_size=20)"
      ]
    },
    {
      "cell_type": "code",
      "execution_count": null,
      "metadata": {},
      "outputs": [],
      "source": [
        "import tensorflow as tf\n",
        "from tensorflow.keras.layers import *\n",
        "from tensorflow.keras.models import Model\n",
        "\n",
        "input_layer = Input(shape=(784,))\n",
        "dense_layer1 = Dense(100,activation=\"sigmoid\")(input_layer) \n",
        "dense_layer2 = Dense(80,activation=\"sigmoid\")(dense_layer1)\n",
        "dense_layer3 = Dense(50,activation=\"sigmoid\")(dense_layer2)\n",
        "dense_layer4 = Dense(10, activation=\"softmax\")(dense_layer3)  \n",
        "\n",
        "model = Model(inputs=input_layer, outputs=dense_layer4)\n",
        "model.compile(loss='categorical_crossentropy', optimizer=\"adam\",metrics=[\"accuracy\"])\n",
        "\n",
        "model.summary()\n",
        "\n",
        "#model.fit(train_img,train_onehot_lbl,validation_data=(test_img,test_onehot_lbl), epochs= 5, batch_size=10)\n"
      ]
    },
    {
      "cell_type": "code",
      "execution_count": null,
      "metadata": {},
      "outputs": [],
      "source": [
        "model.predict(test_img[0:2])"
      ]
    }
  ],
  "metadata": {
    "colab": {
      "include_colab_link": true,
      "provenance": []
    },
    "gpuClass": "standard",
    "kernelspec": {
      "display_name": "Python 3",
      "name": "python3"
    },
    "language_info": {
      "name": "python"
    },
    "orig_nbformat": 4
  },
  "nbformat": 4,
  "nbformat_minor": 0
}
